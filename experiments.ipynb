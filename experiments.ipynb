{
 "cells": [
  {
   "cell_type": "code",
   "execution_count": 1,
   "metadata": {
    "ExecuteTime": {
     "end_time": "2019-03-21T17:08:41.289943Z",
     "start_time": "2019-03-21T17:08:23.849573Z"
    }
   },
   "outputs": [],
   "source": [
    "# from MEM import MEM\n",
    "from datasets import get_dataset, one_hot_df, get_adults_dataframes\n",
    "import pandas as pd\n",
    "import numpy as np\n",
    "from sklearn.preprocessing import StandardScaler\n",
    "from sklearn.metrics import accuracy_score, mean_absolute_error\n",
    "from sklearn.linear_model import Lasso\n",
    "from sklearn.tree import DecisionTreeClassifier\n",
    "from sklearn.svm import SVC\n",
    "from sklearn.linear_model import LogisticRegression\n",
    "from scipy.optimize import minimize\n",
    "from pytan import CLGBayesNetClassifier, DiscreteBayesNetClassifier\n",
    "import warnings\n",
    "\n",
    "warnings.filterwarnings('ignore')"
   ]
  },
  {
   "cell_type": "code",
   "execution_count": 2,
   "metadata": {},
   "outputs": [
    {
     "name": "stdout",
     "output_type": "stream",
     "text": [
      "credits\n",
      "promoters\n",
      "hepatitis\n",
      "adult\n",
      "kr-vs-kp\n",
      "votes\n"
     ]
    }
   ],
   "source": [
    "datasets = ['credits', 'promoters', 'hepatitis', 'adult', 'kr-vs-kp', 'votes']\n",
    "\n",
    "data = {}\n",
    "\n",
    "for dataset in datasets:\n",
    "    print(dataset)\n",
    "    X_train, y_train, X_test, y_test = get_dataset(dataset, discrete=True)\n",
    "    df_train = pd.DataFrame(X_train)\n",
    "    df_test= pd.DataFrame(X_test)\n",
    "    drops = df_train.loc[:,df_train.apply(pd.Series.nunique) == 1].columns\n",
    "    X_train = df_train.drop(columns = drops).values\n",
    "    X_test = df_test.drop(columns = drops).values\n",
    "    data[dataset] = (X_train, y_train, X_test, y_test)"
   ]
  },
  {
   "cell_type": "code",
   "execution_count": 6,
   "metadata": {},
   "outputs": [
    {
     "name": "stdout",
     "output_type": "stream",
     "text": [
      "[-1  1] [-1  1]\n",
      "[-1  1] [-1  1]\n",
      "[-1  1] [-1  1]\n",
      "[-1  1] [-1  1]\n",
      "[-1  1] [-1  1]\n",
      "[-1  1] [-1  1]\n"
     ]
    }
   ],
   "source": [
    "for dataset in datasets:\n",
    "    print(np.unique(data[dataset][1]), np.unique(data[dataset][-1]))"
   ]
  },
  {
   "cell_type": "code",
   "execution_count": 7,
   "metadata": {},
   "outputs": [],
   "source": [
    "from sklearn.linear_model import LogisticRegression\n",
    "from tqdm import tqdm_notebook as tqdm"
   ]
  },
  {
   "cell_type": "code",
   "execution_count": 8,
   "metadata": {},
   "outputs": [],
   "source": [
    "def process_MEM(num_iters, data=data):\n",
    "    lmbd = 0.01\n",
    "\n",
    "    def MEM(alpha):\n",
    "        w = (y*X)@alpha\n",
    "        return np.mean(np.maximum(0,(1-w)*0.5, 1 -w))+lmbd*np.linalg.norm(alpha,ord=2)**2\n",
    "    \n",
    "    \n",
    "    results = [[] for _ in range(len(data))]\n",
    "    for i in tqdm(range(num_iters)):\n",
    "        for j, (dataset, sample) in enumerate(data.items()):\n",
    "            print(dataset)\n",
    "            X_train, y_train, X_test, y_test = sample\n",
    "            y = y_train\n",
    "            X = X_train\n",
    "#             clf.fit(X_train, y_train)\n",
    "            res = minimize(MEM, np.ones(X.shape[1]), tol=1e-3)\n",
    "#             print(np.sign(X_test@res.x).astype(int))\n",
    "            results[j].append(1 - accuracy_score(y_test, np.sign(X_test@res.x).astype(int)))\n",
    "            print(results[j])\n",
    "    results = np.array(results)\n",
    "    mean, var = results.mean(axis=1), results.var(axis=1)\n",
    "    for name, vmean, vvar in zip(data.keys(), mean, var):\n",
    "        print(f'{name:<15} mean: {vmean:<5},\\t var: {vvar}')"
   ]
  },
  {
   "cell_type": "code",
   "execution_count": 11,
   "metadata": {},
   "outputs": [],
   "source": [
    "def process_clf(clf, num_iters, data=data):\n",
    "    results = [[] for _ in range(len(data))]\n",
    "    for i in tqdm(range(num_iters)):\n",
    "        for j, (dataset, sample) in enumerate(data.items()):\n",
    "            print(dataset)\n",
    "            X_train, y_train, X_test, y_test = sample\n",
    "            clf.fit(X_train, y_train)\n",
    "#             print(y_test, X_test.shape)\n",
    "            results[j].append(1 - accuracy_score(y_test, clf.predict(X_test)))\n",
    "    results = np.array(results)\n",
    "    mean, var = results.mean(axis=1), results.var(axis=1)\n",
    "    for name, vmean, vvar in zip(data.keys(), mean, var):\n",
    "        print(f'{name:<15} mean: {vmean:<5},\\t var: {vvar}')\n",
    "    return"
   ]
  },
  {
   "cell_type": "code",
   "execution_count": 13,
   "metadata": {},
   "outputs": [
    {
     "data": {
      "application/vnd.jupyter.widget-view+json": {
       "model_id": "a23e8266fa204e2f96633ed177a60a8d",
       "version_major": 2,
       "version_minor": 0
      },
      "text/plain": [
       "HBox(children=(IntProgress(value=0, max=1), HTML(value='')))"
      ]
     },
     "metadata": {},
     "output_type": "display_data"
    },
    {
     "name": "stdout",
     "output_type": "stream",
     "text": [
      "credits\n",
      "promoters\n",
      "hepatitis\n",
      "adult\n",
      "kr-vs-kp\n",
      "votes\n",
      "\n",
      "credits         mean: 0.138728323699422,\t var: 0.0\n",
      "promoters       mean: 0.18518518518518523,\t var: 0.0\n",
      "hepatitis       mean: 0.1282051282051282,\t var: 0.0\n",
      "adult           mean: 0.18536944905104114,\t var: 0.0\n",
      "kr-vs-kp        mean: 0.07259073842302877,\t var: 0.0\n",
      "votes           mean: 0.07339449541284404,\t var: 0.0\n"
     ]
    }
   ],
   "source": [
    "clf = DiscreteBayesNetClassifier(alpha=1)\n",
    "process_clf(clf, 1, data=data)"
   ]
  },
  {
   "cell_type": "code",
   "execution_count": 27,
   "metadata": {
    "scrolled": true
   },
   "outputs": [
    {
     "data": {
      "application/vnd.jupyter.widget-view+json": {
       "model_id": "82754689f83b4301bf274938a5b5f71a",
       "version_major": 2,
       "version_minor": 0
      },
      "text/plain": [
       "HBox(children=(IntProgress(value=0, max=1), HTML(value='')))"
      ]
     },
     "metadata": {},
     "output_type": "display_data"
    },
    {
     "name": "stdout",
     "output_type": "stream",
     "text": [
      "credits\n",
      "[0.10982658959537572]\n",
      "promoters\n",
      "[0.11111111111111116]\n",
      "hepatitis\n",
      "[0.17948717948717952]\n",
      "\n",
      "credits         mean: 0.10982658959537572,\t var: 0.0\n",
      "promoters       mean: 0.11111111111111116,\t var: 0.0\n",
      "hepatitis       mean: 0.17948717948717952,\t var: 0.0\n"
     ]
    }
   ],
   "source": [
    "process_MEM(num_iters=1, data=data)"
   ]
  },
  {
   "cell_type": "markdown",
   "metadata": {},
   "source": [
    "## Adult dataset"
   ]
  },
  {
   "cell_type": "code",
   "execution_count": 2,
   "metadata": {
    "ExecuteTime": {
     "end_time": "2019-03-21T17:08:42.079989Z",
     "start_time": "2019-03-21T17:08:41.296996Z"
    }
   },
   "outputs": [
    {
     "data": {
      "text/plain": [
       "((32561, 101), (32561, 1), (16281, 101), (16281, 1))"
      ]
     },
     "execution_count": 2,
     "metadata": {},
     "output_type": "execute_result"
    }
   ],
   "source": [
    "X_train, y_train, X_test, y_test = get_dataset('adult', discrete=True)\n",
    "X_train.shape, y_train.shape, X_test.shape, y_test.shape "
   ]
  },
  {
   "cell_type": "markdown",
   "metadata": {},
   "source": [
    "### TAN"
   ]
  },
  {
   "cell_type": "code",
   "execution_count": 15,
   "metadata": {},
   "outputs": [
    {
     "data": {
      "text/plain": [
       "0.8244579571279406"
      ]
     },
     "execution_count": 15,
     "metadata": {},
     "output_type": "execute_result"
    }
   ],
   "source": [
    "clf = DiscreteBayesNetClassifier(alpha=100)\n",
    "\n",
    "clf.fit(X_train, y_train)\n",
    "clf.score(X_test, y_test)"
   ]
  },
  {
   "cell_type": "markdown",
   "metadata": {},
   "source": [
    "### Feature selection"
   ]
  },
  {
   "cell_type": "markdown",
   "metadata": {},
   "source": [
    "$l1$-regularized logistic regression maximizes the worst-case mutual information over\n",
    "$Γ(Q)$, which seems superior to the methods maximizing a heusristic instead of the mutual information"
   ]
  },
  {
   "cell_type": "code",
   "execution_count": 5,
   "metadata": {
    "ExecuteTime": {
     "end_time": "2019-03-21T17:08:45.732592Z",
     "start_time": "2019-03-21T17:08:42.306505Z"
    }
   },
   "outputs": [
    {
     "data": {
      "text/plain": [
       "0.8352681039248203"
      ]
     },
     "execution_count": 5,
     "metadata": {},
     "output_type": "execute_result"
    }
   ],
   "source": [
    "logreg = LogisticRegression(penalty='l1', C=10)\n",
    "logreg.fit(X_train, y_train)\n",
    "logreg.score(X_test,y_test)"
   ]
  },
  {
   "cell_type": "code",
   "execution_count": 5,
   "metadata": {
    "ExecuteTime": {
     "end_time": "2019-03-21T17:08:45.760313Z",
     "start_time": "2019-03-21T17:08:45.753804Z"
    }
   },
   "outputs": [],
   "source": [
    "threshold = 0.4\n",
    "selected_columns = [i for i, score in enumerate(logreg.coef_[0]) if abs(score) >threshold]"
   ]
  },
  {
   "cell_type": "code",
   "execution_count": 6,
   "metadata": {
    "ExecuteTime": {
     "end_time": "2019-03-21T17:08:45.883891Z",
     "start_time": "2019-03-21T17:08:45.786873Z"
    }
   },
   "outputs": [
    {
     "data": {
      "text/plain": [
       "((32561, 55), (16281, 55))"
      ]
     },
     "execution_count": 6,
     "metadata": {},
     "output_type": "execute_result"
    }
   ],
   "source": [
    "X_train_selected = X_train[:,selected_columns]\n",
    "X_test_selected = X_test[:,selected_columns]\n",
    "X_train_selected.shape, X_test_selected.shape"
   ]
  },
  {
   "cell_type": "markdown",
   "metadata": {},
   "source": [
    "### Vanilla SVM"
   ]
  },
  {
   "cell_type": "code",
   "execution_count": 18,
   "metadata": {
    "ExecuteTime": {
     "end_time": "2019-03-21T17:32:24.677229Z",
     "start_time": "2019-03-21T17:30:32.899007Z"
    }
   },
   "outputs": [
    {
     "data": {
      "text/plain": [
       "0.8527731711811314"
      ]
     },
     "execution_count": 18,
     "metadata": {},
     "output_type": "execute_result"
    }
   ],
   "source": [
    "svc=SVC(kernel='linear')\n",
    "svc.fit(X_train, y_train)\n",
    "svc.score(X_test,y_test)"
   ]
  },
  {
   "cell_type": "markdown",
   "metadata": {},
   "source": [
    "### Minimize based implementation"
   ]
  },
  {
   "cell_type": "code",
   "execution_count": 8,
   "metadata": {
    "ExecuteTime": {
     "end_time": "2019-03-21T17:00:34.434186Z",
     "start_time": "2019-03-21T17:00:34.431273Z"
    }
   },
   "outputs": [],
   "source": [
    "lmbd = 0.001\n",
    "y = y_train\n",
    "X = X_train_selected\n",
    "def MEM(alpha):\n",
    "    w = (y*X)@alpha\n",
    "    return np.mean(np.maximum(0,(1-w)*0.5, 1 -w))+lmbd*np.linalg.norm(alpha,ord=2)**2"
   ]
  },
  {
   "cell_type": "code",
   "execution_count": 9,
   "metadata": {
    "ExecuteTime": {
     "end_time": "2019-03-21T17:00:34.593554Z",
     "start_time": "2019-03-21T17:00:34.443918Z"
    }
   },
   "outputs": [
    {
     "data": {
      "text/plain": [
       "1.4659275500334625"
      ]
     },
     "execution_count": 9,
     "metadata": {},
     "output_type": "execute_result"
    }
   ],
   "source": [
    "MEM(np.ones(X.shape[1]))"
   ]
  },
  {
   "cell_type": "code",
   "execution_count": 10,
   "metadata": {
    "ExecuteTime": {
     "end_time": "2019-03-21T17:01:52.741498Z",
     "start_time": "2019-03-21T17:00:34.605348Z"
    }
   },
   "outputs": [],
   "source": [
    "res = minimize(MEM, np.ones(X.shape[1]))"
   ]
  },
  {
   "cell_type": "code",
   "execution_count": 11,
   "metadata": {
    "ExecuteTime": {
     "end_time": "2019-03-21T17:01:52.779139Z",
     "start_time": "2019-03-21T17:01:52.760276Z"
    }
   },
   "outputs": [
    {
     "data": {
      "text/plain": [
       "0.8448498249493275"
      ]
     },
     "execution_count": 11,
     "metadata": {},
     "output_type": "execute_result"
    }
   ],
   "source": [
    "# test score\n",
    "accuracy_score(y_test, np.sign(X_test_selected@res.x))"
   ]
  },
  {
   "cell_type": "markdown",
   "metadata": {},
   "source": [
    "### SGD-based implementation"
   ]
  },
  {
   "cell_type": "code",
   "execution_count": 7,
   "metadata": {
    "ExecuteTime": {
     "end_time": "2019-03-21T17:08:46.010021Z",
     "start_time": "2019-03-21T17:08:45.904240Z"
    }
   },
   "outputs": [],
   "source": [
    "from MEM import MEM"
   ]
  },
  {
   "cell_type": "code",
   "execution_count": 8,
   "metadata": {
    "ExecuteTime": {
     "end_time": "2019-03-21T17:08:46.162517Z",
     "start_time": "2019-03-21T17:08:46.025004Z"
    }
   },
   "outputs": [
    {
     "data": {
      "text/plain": [
       "(32561, 55)"
      ]
     },
     "execution_count": 8,
     "metadata": {},
     "output_type": "execute_result"
    }
   ],
   "source": [
    "X_train_selected.shape"
   ]
  },
  {
   "cell_type": "code",
   "execution_count": 16,
   "metadata": {
    "ExecuteTime": {
     "end_time": "2019-03-21T17:22:26.723841Z",
     "start_time": "2019-03-21T17:10:40.469975Z"
    }
   },
   "outputs": [],
   "source": [
    "clf = MEM()\n",
    "clf.fit(X_train_selected, y_train.flatten())"
   ]
  },
  {
   "cell_type": "code",
   "execution_count": 17,
   "metadata": {
    "ExecuteTime": {
     "end_time": "2019-03-21T17:22:26.768854Z",
     "start_time": "2019-03-21T17:22:26.756675Z"
    }
   },
   "outputs": [
    {
     "data": {
      "text/plain": [
       "0.8406731773232602"
      ]
     },
     "execution_count": 17,
     "metadata": {},
     "output_type": "execute_result"
    }
   ],
   "source": [
    "# test score\n",
    "accuracy_score(y_test, clf.predict(X_test_selected))"
   ]
  },
  {
   "cell_type": "code",
   "execution_count": null,
   "metadata": {},
   "outputs": [],
   "source": []
  }
 ],
 "metadata": {
  "kernelspec": {
   "display_name": "Python 3",
   "language": "python",
   "name": "python3"
  },
  "language_info": {
   "codemirror_mode": {
    "name": "ipython",
    "version": 3
   },
   "file_extension": ".py",
   "mimetype": "text/x-python",
   "name": "python",
   "nbconvert_exporter": "python",
   "pygments_lexer": "ipython3",
   "version": "3.6.7"
  },
  "toc": {
   "base_numbering": 1,
   "nav_menu": {},
   "number_sections": true,
   "sideBar": true,
   "skip_h1_title": false,
   "title_cell": "Table of Contents",
   "title_sidebar": "Contents",
   "toc_cell": false,
   "toc_position": {},
   "toc_section_display": true,
   "toc_window_display": true
  },
  "varInspector": {
   "cols": {
    "lenName": 16,
    "lenType": 16,
    "lenVar": 40
   },
   "kernels_config": {
    "python": {
     "delete_cmd_postfix": "",
     "delete_cmd_prefix": "del ",
     "library": "var_list.py",
     "varRefreshCmd": "print(var_dic_list())"
    },
    "r": {
     "delete_cmd_postfix": ") ",
     "delete_cmd_prefix": "rm(",
     "library": "var_list.r",
     "varRefreshCmd": "cat(var_dic_list()) "
    }
   },
   "types_to_exclude": [
    "module",
    "function",
    "builtin_function_or_method",
    "instance",
    "_Feature"
   ],
   "window_display": false
  }
 },
 "nbformat": 4,
 "nbformat_minor": 2
}
